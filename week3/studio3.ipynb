{
 "cells": [
  {
   "cell_type": "code",
   "execution_count": 17,
   "metadata": {},
   "outputs": [],
   "source": [
    "import pandas as pd \n",
    "import os\n",
    "\n",
    "root_dir = \"./ampc\"\n",
    "csv_files = []\n",
    "for csv_file in os.listdir(root_dir):\n",
    "    csv_path = os.path.join(root_dir, csv_file)\n",
    "    csv_files.append(csv_path)"
   ]
  },
  {
   "cell_type": "code",
   "execution_count": 18,
   "metadata": {},
   "outputs": [
    {
     "name": "stdout",
     "output_type": "stream",
     "text": [
      "       acc_mean_x_right  acc_mean_y_right  acc_mean_z_right  \\\n",
      "0             -0.173300           0.14864          0.981280   \n",
      "1             -0.406180           0.24715          0.794710   \n",
      "2             -0.496700           0.37167          0.702830   \n",
      "3             -0.287800           0.15882          0.916880   \n",
      "4             -0.561890           0.36946          0.686680   \n",
      "...                 ...               ...               ...   \n",
      "11624         -0.594850          -0.77552         -0.097547   \n",
      "11625         -0.502790          -0.89310          0.166820   \n",
      "11626         -0.363130          -0.86416          0.324550   \n",
      "11627         -0.525420          -0.87994          0.153060   \n",
      "11628          0.045011          -0.59333          0.684180   \n",
      "\n",
      "       acc_mean_xyz_right  acc_mean_xy_right  acc_mean_yz_right  \\\n",
      "0                 1.10650            0.44735            1.06110   \n",
      "1                 1.01780            0.52388            0.86595   \n",
      "2                 1.04020            0.68213            0.80958   \n",
      "3                 1.09740            0.50834            1.02760   \n",
      "4                 1.30850            0.91759            1.02180   \n",
      "...                   ...                ...                ...   \n",
      "11624             1.07590            1.04300            0.81406   \n",
      "11625             1.06030            1.04400            0.91113   \n",
      "11626             0.99804            0.93969            0.92684   \n",
      "11627             1.07970            1.03880            0.92688   \n",
      "11628             0.92013            0.60197            0.91419   \n",
      "\n",
      "       acc_mean_zx_right  acc_mean_pitch_right  acc_mean_roll_right  \\\n",
      "0                1.03320                9.9751               52.281   \n",
      "1                0.96693              -30.4210               48.213   \n",
      "2                0.96510              -23.0680               52.897   \n",
      "3                0.99884                3.2451               31.009   \n",
      "4                1.12010              -24.1180               47.579   \n",
      "...                  ...                   ...                  ...   \n",
      "11624            0.68226              -30.8770              -54.605   \n",
      "11625            0.54165              -26.6430              -61.413   \n",
      "11626            0.49724              -16.9320              -66.404   \n",
      "11627            0.59632              -26.9160              -57.849   \n",
      "11628            0.69248               27.7200              -82.162   \n",
      "\n",
      "       acc_std_x_right  ...  gyro_max_yz_left  gyro_max_zx_left  \\\n",
      "0             0.253980  ...            137.85            79.286   \n",
      "1             0.264560  ...            269.08           103.560   \n",
      "2             0.356380  ...            158.42           114.700   \n",
      "3             0.295770  ...            283.65           120.460   \n",
      "4             0.568100  ...            199.69            93.039   \n",
      "...                ...  ...               ...               ...   \n",
      "11624         0.462570  ...            555.90           187.380   \n",
      "11625         0.292920  ...            239.67           190.120   \n",
      "11626         0.076449  ...            255.35           246.940   \n",
      "11627         0.168160  ...            351.10           197.120   \n",
      "11628         0.097805  ...            296.99           203.700   \n",
      "\n",
      "       gyro_peak_x_left  gyro_peak_y_left  gyro_peak_z_left  \\\n",
      "0                     4                 4                 3   \n",
      "1                     3                 1                 2   \n",
      "2                     2                 3                 2   \n",
      "3                     3                 2                 2   \n",
      "4                     4                 2                 2   \n",
      "...                 ...               ...               ...   \n",
      "11624                 3                 3                 2   \n",
      "11625                 4                 5                 4   \n",
      "11626                 3                 5                 3   \n",
      "11627                 3                 2                 1   \n",
      "11628                 5                 5                 2   \n",
      "\n",
      "       gyro_peak_xyz_left  gyro_peak_xy_left  gyro_peak_yz_left  \\\n",
      "0                       2                  2                  2   \n",
      "1                       2                  2                  2   \n",
      "2                       1                  1                  2   \n",
      "3                       3                  4                  3   \n",
      "4                       3                  3                  3   \n",
      "...                   ...                ...                ...   \n",
      "11624                   3                  6                  3   \n",
      "11625                   6                  6                  6   \n",
      "11626                   4                  5                  4   \n",
      "11627                   3                  3                  4   \n",
      "11628                   6                  7                  5   \n",
      "\n",
      "       gyro_peak_zx_left  class  \n",
      "0                      4      2  \n",
      "1                      1      2  \n",
      "2                      2      2  \n",
      "3                      2      2  \n",
      "4                      2      2  \n",
      "...                  ...    ...  \n",
      "11624                  5      2  \n",
      "11625                  6      2  \n",
      "11626                  3      2  \n",
      "11627                  3      2  \n",
      "11628                  4      2  \n",
      "\n",
      "[11629 rows x 157 columns]\n"
     ]
    }
   ],
   "source": [
    "# merging csv files \n",
    "df = pd.concat( \n",
    "    map(pd.read_csv, csv_files), ignore_index=True) \n",
    "print(df) "
   ]
  },
  {
   "cell_type": "code",
   "execution_count": 19,
   "metadata": {},
   "outputs": [],
   "source": [
    "df = df.sample(frac = 1)"
   ]
  },
  {
   "cell_type": "code",
   "execution_count": 20,
   "metadata": {},
   "outputs": [],
   "source": [
    "df.to_csv(\"all_data.csv\")"
   ]
  },
  {
   "cell_type": "code",
   "execution_count": 21,
   "metadata": {},
   "outputs": [
    {
     "data": {
      "text/plain": [
       "0.88134135855546"
      ]
     },
     "execution_count": 21,
     "metadata": {},
     "output_type": "execute_result"
    }
   ],
   "source": [
    "from sklearn import svm\n",
    "from sklearn.model_selection import train_test_split\n",
    "from sklearn.metrics import accuracy_score\n",
    "\n",
    "X = df.iloc[:, :-1]\n",
    "y = df.iloc[:, -1]\n",
    "X_train, X_test, y_train, y_test = train_test_split(X, y,test_size=0.3, random_state=1)\n",
    "clf = svm.SVC()\n",
    "clf.fit(X_train, y_train)\n",
    "y_pred = clf.predict(X_test)\n",
    "accuracy_score(y_test,y_pred)"
   ]
  },
  {
   "cell_type": "code",
   "execution_count": 22,
   "metadata": {},
   "outputs": [
    {
     "name": "stdout",
     "output_type": "stream",
     "text": [
      "[0.87360275 0.89251935 0.89337919 0.90197764 0.89509888 0.88907997\n",
      " 0.89853826 0.88134136 0.8916595  0.89931153]\n"
     ]
    }
   ],
   "source": [
    "from sklearn.model_selection import cross_val_score\n",
    "from sklearn import svm\n",
    "clf = svm.SVC()\n",
    "scores = cross_val_score(clf, X, y, cv=10)\n",
    "print (scores)\n",
    "ori_cv_scores = max(scores)"
   ]
  },
  {
   "cell_type": "code",
   "execution_count": 23,
   "metadata": {},
   "outputs": [
    {
     "name": "stdout",
     "output_type": "stream",
     "text": [
      "Best parameters: {'C': 10, 'gamma': 0.001}\n",
      "Train-test split accuracy: 0.8300372599598739\n",
      "10-fold cross-validation scores: [0.83576956 0.83319003 0.83576956 0.84006879 0.83662941 0.83748925\n",
      " 0.83404987 0.83404987 0.83576956 0.83562823]\n"
     ]
    }
   ],
   "source": [
    "from sklearn.model_selection import GridSearchCV\n",
    "\n",
    "# Update SVC to use RBF kernel\n",
    "param_grid = {\n",
    "    'C': [0.1, 1, 10, 100],\n",
    "    'gamma': [0.001, 0.01, 0.1, 1]\n",
    "}\n",
    "grid_search = GridSearchCV(svm.SVC(kernel='rbf'), param_grid, cv=10)\n",
    "grid_search.fit(X_train, y_train)\n",
    "\n",
    "# Get the best parameters\n",
    "best_params = grid_search.best_params_\n",
    "print(\"Best parameters:\", best_params)\n",
    "\n",
    "# Update SVM model with optimal parameters\n",
    "clf = svm.SVC(kernel='rbf', C=best_params['C'], gamma=best_params['gamma'])\n",
    "clf.fit(X_train, y_train)\n",
    "\n",
    "# Train-test split accuracy\n",
    "y_pred = clf.predict(X_test)\n",
    "accuracy_split = accuracy_score(y_test, y_pred)\n",
    "print(\"Train-test split accuracy:\", accuracy_split)\n",
    "\n",
    "# 10-fold cross-validation accuracy\n",
    "scores = cross_val_score(clf, X, y, cv=10)\n",
    "print(\"10-fold cross-validation scores:\", scores)"
   ]
  },
  {
   "cell_type": "code",
   "execution_count": 24,
   "metadata": {},
   "outputs": [],
   "source": [
    "hyperparam_cv_acc = max(scores)"
   ]
  },
  {
   "cell_type": "code",
   "execution_count": 25,
   "metadata": {},
   "outputs": [
    {
     "name": "stdout",
     "output_type": "stream",
     "text": [
      "Test Set Accuracy: 0.8300372599598739\n",
      "10-Fold Cross-Validation Accuracy: 0.8379911736369381\n"
     ]
    }
   ],
   "source": [
    "from sklearn.feature_selection import SelectKBest, f_classif\n",
    "import numpy as np\n",
    "\n",
    "k = 100\n",
    "selector = SelectKBest(score_func=f_classif, k=k)\n",
    "X_new = selector.fit_transform(X, y)\n",
    "\n",
    "# Train the final model with the best parameters\n",
    "svm_model = svm.SVC(kernel='rbf', C=best_params['C'], gamma=best_params['gamma'])\n",
    "svm_model.fit(X_train, y_train)\n",
    "\n",
    "# Step 5: Evaluate the model on the test set\n",
    "y_pred = svm_model.predict(X_test)\n",
    "accuracy = accuracy_score(y_test, y_pred)\n",
    "print(f\"Test Set Accuracy: {accuracy}\")\n",
    "\n",
    "# Step 6: Perform 10-fold cross-validation with hyperparameter tuning\n",
    "cv_scores = cross_val_score(svm_model, X_new, y, cv=10)\n",
    "print(f\"10-Fold Cross-Validation Accuracy: {np.mean(cv_scores)}\")\n"
   ]
  },
  {
   "cell_type": "code",
   "execution_count": 26,
   "metadata": {},
   "outputs": [],
   "source": [
    "feature_selection_train_test_acc = accuracy\n",
    "feature_selection_cv_acc = np.mean(cv_scores)"
   ]
  },
  {
   "cell_type": "code",
   "execution_count": 27,
   "metadata": {},
   "outputs": [
    {
     "name": "stdout",
     "output_type": "stream",
     "text": [
      "Test Set Accuracy: 0.8452278589853827\n",
      "10-Fold Cross-Validation Accuracy: 0.8361854246614266\n"
     ]
    }
   ],
   "source": [
    "from sklearn.decomposition import PCA\n",
    "from sklearn.model_selection import train_test_split, GridSearchCV, cross_val_score\n",
    "from sklearn.svm import SVC\n",
    "from sklearn.metrics import accuracy_score\n",
    "import numpy as np\n",
    "\n",
    "# Step 1: Perform PCA to reduce to 10 principal components\n",
    "pca = PCA(n_components=10)\n",
    "X_pca = pca.fit_transform(X)\n",
    "\n",
    "# Step 2: Split the dataset into 70/30 train/test set\n",
    "X_train, X_test, y_train, y_test = train_test_split(X_pca, y, test_size=0.3, random_state=42)\n",
    "\n",
    "# Step 3: Hyperparameter tuning values (assuming these are obtained from a previous activity)\n",
    "# Example hyperparameters\n",
    "param_grid = {\n",
    "    'C': [1, 10, 100],\n",
    "    'gamma': [0.001, 0.01, 0.1],\n",
    "    'kernel': ['rbf']\n",
    "}\n",
    "\n",
    "# Step 4: Train an SVM model with hyperparameter tuning on the training set\n",
    "grid_search = GridSearchCV(SVC(), param_grid, cv=5)\n",
    "grid_search.fit(X_train, y_train)\n",
    "\n",
    "# Best parameters from grid search\n",
    "best_params = grid_search.best_params_\n",
    "\n",
    "# Train the final model with the best parameters\n",
    "svm_model = SVC(**best_params)\n",
    "svm_model.fit(X_train, y_train)\n",
    "\n",
    "# Step 5: Evaluate the model on the test set\n",
    "y_pred = svm_model.predict(X_test)\n",
    "accuracy = accuracy_score(y_test, y_pred)\n",
    "print(f\"Test Set Accuracy: {accuracy}\")\n",
    "\n",
    "# Step 6: Perform 10-fold cross-validation with hyperparameter tuning\n",
    "cv_scores = cross_val_score(SVC(**best_params), X_pca, y, cv=10)\n",
    "print(f\"10-Fold Cross-Validation Accuracy: {np.mean(cv_scores)}\")"
   ]
  },
  {
   "cell_type": "code",
   "execution_count": 28,
   "metadata": {},
   "outputs": [],
   "source": [
    "pca_train_test_acc = accuracy\n",
    "pca_cv_acc = np.mean(cv_scores)"
   ]
  },
  {
   "cell_type": "code",
   "execution_count": 31,
   "metadata": {},
   "outputs": [
    {
     "data": {
      "text/html": [
       "<div>\n",
       "<style scoped>\n",
       "    .dataframe tbody tr th:only-of-type {\n",
       "        vertical-align: middle;\n",
       "    }\n",
       "\n",
       "    .dataframe tbody tr th {\n",
       "        vertical-align: top;\n",
       "    }\n",
       "\n",
       "    .dataframe thead th {\n",
       "        text-align: right;\n",
       "    }\n",
       "</style>\n",
       "<table border=\"1\" class=\"dataframe\">\n",
       "  <thead>\n",
       "    <tr style=\"text-align: right;\">\n",
       "      <th></th>\n",
       "      <th>SVM Model</th>\n",
       "      <th>Train-test split Accuracy</th>\n",
       "      <th>Cross-validation Accuracy</th>\n",
       "    </tr>\n",
       "  </thead>\n",
       "  <tbody>\n",
       "    <tr>\n",
       "      <th>0</th>\n",
       "      <td>Original features</td>\n",
       "      <td>89.00%</td>\n",
       "      <td>90.20%</td>\n",
       "    </tr>\n",
       "    <tr>\n",
       "      <th>1</th>\n",
       "      <td>With hyperparameter tuning</td>\n",
       "      <td>83.00%</td>\n",
       "      <td>84.01%</td>\n",
       "    </tr>\n",
       "    <tr>\n",
       "      <th>2</th>\n",
       "      <td>With feature selection and hyperparameter tuning</td>\n",
       "      <td>83.00%</td>\n",
       "      <td>83.80%</td>\n",
       "    </tr>\n",
       "    <tr>\n",
       "      <th>3</th>\n",
       "      <td>With PCA and hyperparameter tuning</td>\n",
       "      <td>84.52%</td>\n",
       "      <td>83.62%</td>\n",
       "    </tr>\n",
       "  </tbody>\n",
       "</table>\n",
       "</div>"
      ],
      "text/plain": [
       "                                          SVM Model Train-test split Accuracy  \\\n",
       "0                                 Original features                    89.00%   \n",
       "1                        With hyperparameter tuning                    83.00%   \n",
       "2  With feature selection and hyperparameter tuning                    83.00%   \n",
       "3                With PCA and hyperparameter tuning                    84.52%   \n",
       "\n",
       "  Cross-validation Accuracy  \n",
       "0                    90.20%  \n",
       "1                    84.01%  \n",
       "2                    83.80%  \n",
       "3                    83.62%  "
      ]
     },
     "metadata": {},
     "output_type": "display_data"
    }
   ],
   "source": [
    "import pandas as pd\n",
    "\n",
    "# Assuming you have the accuracy values stored in variables\n",
    "original_train_test_acc = 0.89\n",
    "original_cv_acc = np.mean(ori_cv_scores)\n",
    "hyperparam_train_test_acc = accuracy_split\n",
    "\n",
    "# Create a dictionary with the accuracy values\n",
    "data = {\n",
    "    \"SVM Model\": [\n",
    "        \"Original features\",\n",
    "        \"With hyperparameter tuning\",\n",
    "        \"With feature selection and hyperparameter tuning\",\n",
    "        \"With PCA and hyperparameter tuning\"\n",
    "    ],\n",
    "    \"Train-test split Accuracy\": [\n",
    "        f\"{original_train_test_acc * 100:.2f}%\",\n",
    "        f\"{hyperparam_train_test_acc * 100:.2f}%\",\n",
    "        f\"{feature_selection_train_test_acc * 100:.2f}%\",\n",
    "        f\"{pca_train_test_acc * 100:.2f}%\"\n",
    "    ],\n",
    "    \"Cross-validation Accuracy\": [\n",
    "        f\"{original_cv_acc * 100:.2f}%\",\n",
    "        f\"{hyperparam_cv_acc * 100:.2f}%\",\n",
    "        f\"{feature_selection_cv_acc * 100:.2f}%\",\n",
    "        f\"{pca_cv_acc * 100:.2f}%\"\n",
    "    ]\n",
    "}\n",
    "\n",
    "# Convert the dictionary to a DataFrame\n",
    "summary_df = pd.DataFrame(data)\n",
    "\n",
    "# Display the DataFrame\n",
    "display(summary_df)"
   ]
  },
  {
   "cell_type": "code",
   "execution_count": 34,
   "metadata": {},
   "outputs": [
    {
     "data": {
      "text/html": [
       "<div>\n",
       "<style scoped>\n",
       "    .dataframe tbody tr th:only-of-type {\n",
       "        vertical-align: middle;\n",
       "    }\n",
       "\n",
       "    .dataframe tbody tr th {\n",
       "        vertical-align: top;\n",
       "    }\n",
       "\n",
       "    .dataframe thead th {\n",
       "        text-align: right;\n",
       "    }\n",
       "</style>\n",
       "<table border=\"1\" class=\"dataframe\">\n",
       "  <thead>\n",
       "    <tr style=\"text-align: right;\">\n",
       "      <th></th>\n",
       "      <th>Model</th>\n",
       "      <th>Train-test split Accuracy</th>\n",
       "      <th>Cross-validation Accuracy</th>\n",
       "    </tr>\n",
       "  </thead>\n",
       "  <tbody>\n",
       "    <tr>\n",
       "      <th>0</th>\n",
       "      <td>SVM</td>\n",
       "      <td>89.00%</td>\n",
       "      <td>90.00%</td>\n",
       "    </tr>\n",
       "    <tr>\n",
       "      <th>1</th>\n",
       "      <td>SGD</td>\n",
       "      <td>87.42%</td>\n",
       "      <td>88.24%</td>\n",
       "    </tr>\n",
       "    <tr>\n",
       "      <th>2</th>\n",
       "      <td>RandomForest</td>\n",
       "      <td>93.41%</td>\n",
       "      <td>93.32%</td>\n",
       "    </tr>\n",
       "    <tr>\n",
       "      <th>3</th>\n",
       "      <td>MLP</td>\n",
       "      <td>90.77%</td>\n",
       "      <td>87.63%</td>\n",
       "    </tr>\n",
       "  </tbody>\n",
       "</table>\n",
       "</div>"
      ],
      "text/plain": [
       "          Model Train-test split Accuracy Cross-validation Accuracy\n",
       "0           SVM                    89.00%                    90.00%\n",
       "1           SGD                    87.42%                    88.24%\n",
       "2  RandomForest                    93.41%                    93.32%\n",
       "3           MLP                    90.77%                    87.63%"
      ]
     },
     "metadata": {},
     "output_type": "display_data"
    }
   ],
   "source": [
    "import pandas as pd\n",
    "from sklearn.model_selection import train_test_split, cross_val_score\n",
    "from sklearn.linear_model import SGDClassifier\n",
    "from sklearn.ensemble import RandomForestClassifier\n",
    "from sklearn.neural_network import MLPClassifier\n",
    "from sklearn.metrics import accuracy_score\n",
    "\n",
    "# Load the dataset\n",
    "data = pd.read_csv('all_data.csv')\n",
    "X = data.iloc[:, :-1]\n",
    "y = data.iloc[:, -1]\n",
    "\n",
    "# Train-test split\n",
    "X_train, X_test, y_train, y_test = train_test_split(X, y, test_size=0.3, random_state=42)\n",
    "\n",
    "# Function to train and evaluate a model\n",
    "def evaluate_model(model, X_train, X_test, y_train, y_test):\n",
    "    model.fit(X_train, y_train)\n",
    "    y_pred = model.predict(X_test)\n",
    "    train_test_acc = accuracy_score(y_test, y_pred)\n",
    "    cv_acc = cross_val_score(model, X, y, cv=10).mean()\n",
    "    return train_test_acc, cv_acc\n",
    "\n",
    "# Train with SGDClassifier\n",
    "sgd_model = SGDClassifier(random_state=42)\n",
    "sgd_train_test_acc, sgd_cv_acc = evaluate_model(sgd_model, X_train, X_test, y_train, y_test)\n",
    "\n",
    "# Train with RandomForestClassifier\n",
    "rf_model = RandomForestClassifier(random_state=42)\n",
    "rf_train_test_acc, rf_cv_acc = evaluate_model(rf_model, X_train, X_test, y_train, y_test)\n",
    "\n",
    "# Train with MLPClassifier\n",
    "mlp_model = MLPClassifier(random_state=42)\n",
    "mlp_train_test_acc, mlp_cv_acc = evaluate_model(mlp_model, X_train, X_test, y_train, y_test)\n",
    "\n",
    "# Assuming you have the SVM accuracy values from previous steps\n",
    "svm_train_test_acc = 0.89  # Replace with actual value\n",
    "svm_cv_acc = 0.90  # Replace with actual value\n",
    "\n",
    "# Create a summary table\n",
    "data = {\n",
    "    \"Model\": [\"SVM\", \"SGD\", \"RandomForest\", \"MLP\"],\n",
    "    \"Train-test split Accuracy\": [\n",
    "        f\"{svm_train_test_acc * 100:.2f}%\",\n",
    "        f\"{sgd_train_test_acc * 100:.2f}%\",\n",
    "        f\"{rf_train_test_acc * 100:.2f}%\",\n",
    "        f\"{mlp_train_test_acc * 100:.2f}%\"\n",
    "    ],\n",
    "    \"Cross-validation Accuracy\": [\n",
    "        f\"{svm_cv_acc * 100:.2f}%\",\n",
    "        f\"{sgd_cv_acc * 100:.2f}%\",\n",
    "        f\"{rf_cv_acc * 100:.2f}%\",\n",
    "        f\"{mlp_cv_acc * 100:.2f}%\"\n",
    "    ]\n",
    "}\n",
    "\n",
    "summary_df = pd.DataFrame(data)\n",
    "display(summary_df)"
   ]
  }
 ],
 "metadata": {
  "kernelspec": {
   "display_name": "comb",
   "language": "python",
   "name": "python3"
  },
  "language_info": {
   "codemirror_mode": {
    "name": "ipython",
    "version": 3
   },
   "file_extension": ".py",
   "mimetype": "text/x-python",
   "name": "python",
   "nbconvert_exporter": "python",
   "pygments_lexer": "ipython3",
   "version": "3.11.9"
  }
 },
 "nbformat": 4,
 "nbformat_minor": 2
}
